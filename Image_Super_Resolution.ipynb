{
  "nbformat": 4,
  "nbformat_minor": 0,
  "metadata": {
    "colab": {
      "provenance": []
    },
    "kernelspec": {
      "name": "python3",
      "display_name": "Python 3"
    },
    "language_info": {
      "name": "python"
    },
    "accelerator": "GPU",
    "gpuClass": "standard"
  },
  "cells": [
    {
      "cell_type": "markdown",
      "source": [
        "#ESRGAN (Enhanced Super-Resolution Generative Adversarial Network)"
      ],
      "metadata": {
        "id": "g82UBK09dxAt"
      }
    },
    {
      "cell_type": "markdown",
      "source": [
        "## Cloning the ESRGAN pre-trained model"
      ],
      "metadata": {
        "id": "bZSMmYGZuM34"
      }
    },
    {
      "cell_type": "code",
      "source": [
        "! git clone https://github.com/xinntao/ESRGAN"
      ],
      "metadata": {
        "colab": {
          "base_uri": "https://localhost:8080/"
        },
        "id": "4P5UrNHoQTxH",
        "outputId": "1044f69d-eab4-4cb2-90b9-2dbc4bff7909"
      },
      "execution_count": null,
      "outputs": [
        {
          "output_type": "stream",
          "name": "stdout",
          "text": [
            "Cloning into 'ESRGAN'...\n",
            "remote: Enumerating objects: 225, done.\u001b[K\n",
            "remote: Total 225 (delta 0), reused 0 (delta 0), pack-reused 225\u001b[K\n",
            "Receiving objects: 100% (225/225), 24.86 MiB | 13.99 MiB/s, done.\n",
            "Resolving deltas: 100% (86/86), done.\n"
          ]
        }
      ]
    },
    {
      "cell_type": "markdown",
      "source": [
        "##Place your own low-resolution images in ./LR folder"
      ],
      "metadata": {
        "id": "MJtJ_bz-vrKL"
      }
    },
    {
      "cell_type": "code",
      "source": [
        "%cd ESRGAN"
      ],
      "metadata": {
        "colab": {
          "base_uri": "https://localhost:8080/"
        },
        "id": "6HxDyELXYBur",
        "outputId": "25919f27-4de6-4005-acda-64d705416d00"
      },
      "execution_count": null,
      "outputs": [
        {
          "output_type": "stream",
          "name": "stdout",
          "text": [
            "/content/ESRGAN\n"
          ]
        }
      ]
    },
    {
      "cell_type": "markdown",
      "source": [
        "## Download RRDB_ESRGAN_X4.pth model from the given drive link and put it into the models folder\n",
        "### https://drive.google.com/drive/u/0/folders/17VYV_SoZZesU6mbxz2dMAIccSSlqLecY"
      ],
      "metadata": {
        "id": "rnuNGV4au9dJ"
      }
    },
    {
      "cell_type": "markdown",
      "source": [
        "## run test.py python file to train that model to on our custome dataset"
      ],
      "metadata": {
        "id": "mteJulQSvThU"
      }
    },
    {
      "cell_type": "code",
      "source": [
        "!python test.py"
      ],
      "metadata": {
        "colab": {
          "base_uri": "https://localhost:8080/"
        },
        "id": "KMah5UV_UBb6",
        "outputId": "6917ea1a-4c9c-4a06-9745-eab375be1810"
      },
      "execution_count": null,
      "outputs": [
        {
          "output_type": "stream",
          "name": "stdout",
          "text": [
            "Model path models/RRDB_ESRGAN_x4.pth. \n",
            "Testing...\n",
            "1 Image_020\n",
            "2 Image_006\n",
            "3 Image_003\n"
          ]
        }
      ]
    },
    {
      "cell_type": "markdown",
      "source": [
        "## The results are in ./results folder"
      ],
      "metadata": {
        "id": "Rt8jUxQ4v5ou"
      }
    },
    {
      "cell_type": "markdown",
      "source": [
        "#**New Bicubic Interpolation Code**"
      ],
      "metadata": {
        "id": "Rvc1nBimDeV6"
      }
    },
    {
      "cell_type": "markdown",
      "source": [
        "##Bicubic interpolation is a popular method for image super resolution in image processing. In Python, you can use the Pillow library to implement bicubic interpolation.\n",
        "\n",
        "Here's an example code snippet that demonstrates how to use bicubic interpolation to upscale an image by a factor of 2:"
      ],
      "metadata": {
        "id": "yR6hDvJCDFQR"
      }
    },
    {
      "cell_type": "code",
      "source": [
        "from PIL import Image\n",
        "\n",
        "# Load the original image\n",
        "img = Image.open(\"/content/Image_004.jpg\")\n",
        "\n",
        "# Upscale the image by a factor of 2 using bicubic interpolation\n",
        "upscaled_img = img.resize((img.width*2, img.height*2), resample=Image.BICUBIC)\n",
        "\n",
        "# Save the upscaled image\n",
        "upscaled_img.save(\"upscaled_Image_004.jpg\")\n"
      ],
      "metadata": {
        "id": "OLM7XPihDMwZ"
      },
      "execution_count": null,
      "outputs": []
    },
    {
      "cell_type": "markdown",
      "source": [
        "#In this code, we first load the original image using the Image.open() function. Then, we use the resize() function to upscale the image by a factor of 2. The resample parameter is set to Image.BICUBIC to perform bicubic interpolation. Finally, we save the upscaled image using the save() function.\n",
        "\n",
        "##Note that while bicubic interpolation can improve the resolution of an image, it cannot add details that were not present in the original image. As a result, the quality of the upscaled image will depend on the quality of the original image."
      ],
      "metadata": {
        "id": "yQhakfvTDSoW"
      }
    },
    {
      "cell_type": "markdown",
      "source": [
        "#**BSRGAN (Bidirectional Super-Resolution Generative Adversarial Network)**"
      ],
      "metadata": {
        "id": "6DW2xEtIB1LI"
      }
    },
    {
      "cell_type": "markdown",
      "source": [
        "##1) Download the BSRGAN code and pre-trained models from the repository: https://github.com/cszn/BSRGAN"
      ],
      "metadata": {
        "id": "H4sAoEc3HdL2"
      }
    },
    {
      "cell_type": "code",
      "source": [
        "! git clone https://github.com/cszn/BSRGAN.git"
      ],
      "metadata": {
        "id": "NUihLj1DK2km",
        "colab": {
          "base_uri": "https://localhost:8080/"
        },
        "outputId": "e0973640-6633-4fe4-b202-6ff020b94bd7"
      },
      "execution_count": null,
      "outputs": [
        {
          "output_type": "stream",
          "name": "stdout",
          "text": [
            "Cloning into 'BSRGAN'...\n",
            "remote: Enumerating objects: 541, done.\u001b[K\n",
            "remote: Counting objects: 100% (155/155), done.\u001b[K\n",
            "remote: Compressing objects: 100% (54/54), done.\u001b[K\n",
            "remote: Total 541 (delta 144), reused 105 (delta 101), pack-reused 386\u001b[K\n",
            "Receiving objects: 100% (541/541), 168.90 MiB | 23.32 MiB/s, done.\n",
            "Resolving deltas: 100% (196/196), done.\n"
          ]
        }
      ]
    },
    {
      "cell_type": "code",
      "source": [
        "%cd BSRGAN"
      ],
      "metadata": {
        "id": "8Yb2xKyqze84",
        "colab": {
          "base_uri": "https://localhost:8080/"
        },
        "outputId": "f46f5c83-74b9-40a8-a36a-acd1ab72b6e1"
      },
      "execution_count": null,
      "outputs": [
        {
          "output_type": "stream",
          "name": "stdout",
          "text": [
            "/content/BSRGAN\n"
          ]
        }
      ]
    },
    {
      "cell_type": "code",
      "source": [
        "!python main_download_pretrained_models.py"
      ],
      "metadata": {
        "id": "oW-fpN-nzjUB",
        "colab": {
          "base_uri": "https://localhost:8080/"
        },
        "outputId": "d6c13dc3-94c2-4bc1-a4de-cbcbf0ce4f44"
      },
      "execution_count": null,
      "outputs": [
        {
          "output_type": "stream",
          "name": "stdout",
          "text": [
            "trying to download ['dncnn3.pth']\n",
            "downloading [model_zoo/dncnn3.pth] ...\n",
            "done!\n"
          ]
        }
      ]
    },
    {
      "cell_type": "code",
      "source": [
        "#download 'BSRGAN.pth'\n",
        "! python main_download_pretrained_models.py --models \"BSRGAN.pth\" --model_dir \"model_zoo\""
      ],
      "metadata": {
        "colab": {
          "base_uri": "https://localhost:8080/"
        },
        "id": "iMdJ4mSZnmwb",
        "outputId": "c9ce5797-1973-4f30-d68e-48463cea033e"
      },
      "execution_count": null,
      "outputs": [
        {
          "output_type": "stream",
          "name": "stdout",
          "text": [
            "trying to download ['BSRGAN.pth']\n",
            "downloading [model_zoo/BSRGAN.pth] ...\n",
            "done!\n"
          ]
        }
      ]
    },
    {
      "cell_type": "markdown",
      "source": [
        "## download BSRGAN.pth file and put into the model_zoo"
      ],
      "metadata": {
        "id": "K0YHLCXjJuwZ"
      }
    },
    {
      "cell_type": "markdown",
      "source": [
        "## Input Path : testsets/RealSRSet\n",
        "##Output path: testsets/RealSRSet_results_x4"
      ],
      "metadata": {
        "id": "mX0cidrPopbC"
      }
    },
    {
      "cell_type": "code",
      "source": [
        "!python main_test_bsrgan.py"
      ],
      "metadata": {
        "id": "7gsn-YdRzl35"
      },
      "execution_count": null,
      "outputs": []
    },
    {
      "cell_type": "markdown",
      "source": [
        "#YoloV8 on Custom Dataset"
      ],
      "metadata": {
        "id": "FYRguCugJ9DI"
      }
    },
    {
      "cell_type": "code",
      "source": [
        "!pip install ultralytics"
      ],
      "metadata": {
        "colab": {
          "base_uri": "https://localhost:8080/"
        },
        "id": "4tm_5xHjJ8e2",
        "outputId": "90bd5ddb-2137-4953-af03-59260f126c83"
      },
      "execution_count": null,
      "outputs": [
        {
          "output_type": "stream",
          "name": "stdout",
          "text": [
            "Looking in indexes: https://pypi.org/simple, https://us-python.pkg.dev/colab-wheels/public/simple/\n",
            "Collecting ultralytics\n",
            "  Downloading ultralytics-8.0.83-py3-none-any.whl (529 kB)\n",
            "\u001b[2K     \u001b[90m━━━━━━━━━━━━━━━━━━━━━━━━━━━━━━━━━━━━━━\u001b[0m \u001b[32m529.2/529.2 kB\u001b[0m \u001b[31m30.3 MB/s\u001b[0m eta \u001b[36m0:00:00\u001b[0m\n",
            "\u001b[?25hRequirement already satisfied: requests>=2.23.0 in /usr/local/lib/python3.9/dist-packages (from ultralytics) (2.27.1)\n",
            "Requirement already satisfied: scipy>=1.4.1 in /usr/local/lib/python3.9/dist-packages (from ultralytics) (1.10.1)\n",
            "Requirement already satisfied: pandas>=1.1.4 in /usr/local/lib/python3.9/dist-packages (from ultralytics) (1.5.3)\n",
            "Collecting sentry-sdk\n",
            "  Downloading sentry_sdk-1.20.0-py2.py3-none-any.whl (198 kB)\n",
            "\u001b[2K     \u001b[90m━━━━━━━━━━━━━━━━━━━━━━━━━━━━━━━━━━━━━━\u001b[0m \u001b[32m198.8/198.8 kB\u001b[0m \u001b[31m23.3 MB/s\u001b[0m eta \u001b[36m0:00:00\u001b[0m\n",
            "\u001b[?25hRequirement already satisfied: torchvision>=0.8.1 in /usr/local/lib/python3.9/dist-packages (from ultralytics) (0.15.1+cu118)\n",
            "Requirement already satisfied: PyYAML>=5.3.1 in /usr/local/lib/python3.9/dist-packages (from ultralytics) (6.0)\n",
            "Requirement already satisfied: torch>=1.7.0 in /usr/local/lib/python3.9/dist-packages (from ultralytics) (2.0.0+cu118)\n",
            "Requirement already satisfied: seaborn>=0.11.0 in /usr/local/lib/python3.9/dist-packages (from ultralytics) (0.12.2)\n",
            "Requirement already satisfied: tqdm>=4.64.0 in /usr/local/lib/python3.9/dist-packages (from ultralytics) (4.65.0)\n",
            "Requirement already satisfied: Pillow>=7.1.2 in /usr/local/lib/python3.9/dist-packages (from ultralytics) (8.4.0)\n",
            "Requirement already satisfied: psutil in /usr/local/lib/python3.9/dist-packages (from ultralytics) (5.9.5)\n",
            "Collecting thop>=0.1.1\n",
            "  Downloading thop-0.1.1.post2209072238-py3-none-any.whl (15 kB)\n",
            "Requirement already satisfied: numpy>=1.21.6 in /usr/local/lib/python3.9/dist-packages (from ultralytics) (1.22.4)\n",
            "Requirement already satisfied: opencv-python>=4.6.0 in /usr/local/lib/python3.9/dist-packages (from ultralytics) (4.7.0.72)\n",
            "Requirement already satisfied: matplotlib>=3.2.2 in /usr/local/lib/python3.9/dist-packages (from ultralytics) (3.7.1)\n",
            "Requirement already satisfied: kiwisolver>=1.0.1 in /usr/local/lib/python3.9/dist-packages (from matplotlib>=3.2.2->ultralytics) (1.4.4)\n",
            "Requirement already satisfied: pyparsing>=2.3.1 in /usr/local/lib/python3.9/dist-packages (from matplotlib>=3.2.2->ultralytics) (3.0.9)\n",
            "Requirement already satisfied: contourpy>=1.0.1 in /usr/local/lib/python3.9/dist-packages (from matplotlib>=3.2.2->ultralytics) (1.0.7)\n",
            "Requirement already satisfied: packaging>=20.0 in /usr/local/lib/python3.9/dist-packages (from matplotlib>=3.2.2->ultralytics) (23.1)\n",
            "Requirement already satisfied: python-dateutil>=2.7 in /usr/local/lib/python3.9/dist-packages (from matplotlib>=3.2.2->ultralytics) (2.8.2)\n",
            "Requirement already satisfied: fonttools>=4.22.0 in /usr/local/lib/python3.9/dist-packages (from matplotlib>=3.2.2->ultralytics) (4.39.3)\n",
            "Requirement already satisfied: importlib-resources>=3.2.0 in /usr/local/lib/python3.9/dist-packages (from matplotlib>=3.2.2->ultralytics) (5.12.0)\n",
            "Requirement already satisfied: cycler>=0.10 in /usr/local/lib/python3.9/dist-packages (from matplotlib>=3.2.2->ultralytics) (0.11.0)\n",
            "Requirement already satisfied: pytz>=2020.1 in /usr/local/lib/python3.9/dist-packages (from pandas>=1.1.4->ultralytics) (2022.7.1)\n",
            "Requirement already satisfied: idna<4,>=2.5 in /usr/local/lib/python3.9/dist-packages (from requests>=2.23.0->ultralytics) (3.4)\n",
            "Requirement already satisfied: charset-normalizer~=2.0.0 in /usr/local/lib/python3.9/dist-packages (from requests>=2.23.0->ultralytics) (2.0.12)\n",
            "Requirement already satisfied: urllib3<1.27,>=1.21.1 in /usr/local/lib/python3.9/dist-packages (from requests>=2.23.0->ultralytics) (1.26.15)\n",
            "Requirement already satisfied: certifi>=2017.4.17 in /usr/local/lib/python3.9/dist-packages (from requests>=2.23.0->ultralytics) (2022.12.7)\n",
            "Requirement already satisfied: networkx in /usr/local/lib/python3.9/dist-packages (from torch>=1.7.0->ultralytics) (3.1)\n",
            "Requirement already satisfied: sympy in /usr/local/lib/python3.9/dist-packages (from torch>=1.7.0->ultralytics) (1.11.1)\n",
            "Requirement already satisfied: filelock in /usr/local/lib/python3.9/dist-packages (from torch>=1.7.0->ultralytics) (3.11.0)\n",
            "Requirement already satisfied: triton==2.0.0 in /usr/local/lib/python3.9/dist-packages (from torch>=1.7.0->ultralytics) (2.0.0)\n",
            "Requirement already satisfied: typing-extensions in /usr/local/lib/python3.9/dist-packages (from torch>=1.7.0->ultralytics) (4.5.0)\n",
            "Requirement already satisfied: jinja2 in /usr/local/lib/python3.9/dist-packages (from torch>=1.7.0->ultralytics) (3.1.2)\n",
            "Requirement already satisfied: lit in /usr/local/lib/python3.9/dist-packages (from triton==2.0.0->torch>=1.7.0->ultralytics) (16.0.1)\n",
            "Requirement already satisfied: cmake in /usr/local/lib/python3.9/dist-packages (from triton==2.0.0->torch>=1.7.0->ultralytics) (3.25.2)\n",
            "Requirement already satisfied: zipp>=3.1.0 in /usr/local/lib/python3.9/dist-packages (from importlib-resources>=3.2.0->matplotlib>=3.2.2->ultralytics) (3.15.0)\n",
            "Requirement already satisfied: six>=1.5 in /usr/local/lib/python3.9/dist-packages (from python-dateutil>=2.7->matplotlib>=3.2.2->ultralytics) (1.16.0)\n",
            "Requirement already satisfied: MarkupSafe>=2.0 in /usr/local/lib/python3.9/dist-packages (from jinja2->torch>=1.7.0->ultralytics) (2.1.2)\n",
            "Requirement already satisfied: mpmath>=0.19 in /usr/local/lib/python3.9/dist-packages (from sympy->torch>=1.7.0->ultralytics) (1.3.0)\n",
            "Installing collected packages: sentry-sdk, thop, ultralytics\n",
            "Successfully installed sentry-sdk-1.20.0 thop-0.1.1.post2209072238 ultralytics-8.0.83\n"
          ]
        }
      ]
    },
    {
      "cell_type": "code",
      "source": [
        "yolo predict model=yolov8n.pt source='https://ultralytics.com/images/bus.jpg'"
      ],
      "metadata": {
        "colab": {
          "base_uri": "https://localhost:8080/"
        },
        "id": "cJ9s-bMwKtfH",
        "outputId": "e99b5f27-df1d-408c-d1dd-7faf257282f3"
      },
      "execution_count": null,
      "outputs": [
        {
          "output_type": "stream",
          "name": "stdout",
          "text": [
            "Downloading https://github.com/ultralytics/assets/releases/download/v0.0.0/yolov8n.pt to yolov8n.pt...\n",
            "100% 6.23M/6.23M [00:00<00:00, 254MB/s]\n",
            "Ultralytics YOLOv8.0.83 🚀 Python-3.9.16 torch-2.0.0+cu118 CUDA:0 (Tesla T4, 15102MiB)\n",
            "YOLOv8n summary (fused): 168 layers, 3151904 parameters, 0 gradients, 8.7 GFLOPs\n",
            "\n",
            "Traceback (most recent call last):\n",
            "  File \"/usr/local/bin/yolo\", line 8, in <module>\n",
            "    sys.exit(entrypoint())\n",
            "  File \"/usr/local/lib/python3.9/dist-packages/ultralytics/yolo/cfg/__init__.py\", line 391, in entrypoint\n",
            "    getattr(model, mode)(**overrides)  # default args from model\n",
            "  File \"/usr/local/lib/python3.9/dist-packages/torch/utils/_contextlib.py\", line 115, in decorate_context\n",
            "    return func(*args, **kwargs)\n",
            "  File \"/usr/local/lib/python3.9/dist-packages/ultralytics/yolo/engine/model.py\", line 252, in predict\n",
            "    return self.predictor.predict_cli(source=source) if is_cli else self.predictor(source=source, stream=stream)\n",
            "  File \"/usr/local/lib/python3.9/dist-packages/ultralytics/yolo/engine/predictor.py\", line 162, in predict_cli\n",
            "    for _ in gen:  # running CLI inference without accumulating any outputs (do not modify)\n",
            "  File \"/usr/local/lib/python3.9/dist-packages/torch/utils/_contextlib.py\", line 35, in generator_context\n",
            "    response = gen.send(None)\n",
            "  File \"/usr/local/lib/python3.9/dist-packages/ultralytics/yolo/engine/predictor.py\", line 195, in stream_inference\n",
            "    self.setup_source(source if source is not None else self.args.source)\n",
            "  File \"/usr/local/lib/python3.9/dist-packages/ultralytics/yolo/engine/predictor.py\", line 172, in setup_source\n",
            "    self.dataset = load_inference_source(source=source,\n",
            "  File \"/usr/local/lib/python3.9/dist-packages/ultralytics/yolo/data/build.py\", line 203, in load_inference_source\n",
            "    dataset = LoadImages(source,\n",
            "  File \"/usr/local/lib/python3.9/dist-packages/ultralytics/yolo/data/dataloaders/stream_loaders.py\", line 194, in __init__\n",
            "    raise FileNotFoundError(f'{p} does not exist')\n",
            "FileNotFoundError: /content/0 does not exist\n"
          ]
        }
      ]
    }
  ]
}